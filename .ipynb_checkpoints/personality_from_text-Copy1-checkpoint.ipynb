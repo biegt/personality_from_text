{
 "cells": [
  {
   "cell_type": "markdown",
   "metadata": {},
   "source": [
    "# 1. Setup\n",
    "We start off by importing the Python libraries we need. We also import the `essays` dataset (`essays.csv`) that we can find in the `data` directory of our project. We also format the column names, so that they are easier to work with."
   ]
  },
  {
   "cell_type": "code",
   "execution_count": 1,
   "metadata": {},
   "outputs": [
    {
     "data": {
      "text/html": [
       "<div>\n",
       "<style scoped>\n",
       "    .dataframe tbody tr th:only-of-type {\n",
       "        vertical-align: middle;\n",
       "    }\n",
       "\n",
       "    .dataframe tbody tr th {\n",
       "        vertical-align: top;\n",
       "    }\n",
       "\n",
       "    .dataframe thead th {\n",
       "        text-align: right;\n",
       "    }\n",
       "</style>\n",
       "<table border=\"1\" class=\"dataframe\">\n",
       "  <thead>\n",
       "    <tr style=\"text-align: right;\">\n",
       "      <th></th>\n",
       "      <th>authid</th>\n",
       "      <th>text</th>\n",
       "      <th>ext</th>\n",
       "      <th>neu</th>\n",
       "      <th>agr</th>\n",
       "      <th>con</th>\n",
       "      <th>opn</th>\n",
       "    </tr>\n",
       "  </thead>\n",
       "  <tbody>\n",
       "    <tr>\n",
       "      <td>0</td>\n",
       "      <td>1997_504851.txt</td>\n",
       "      <td>Well, right now I just woke up from a mid-day ...</td>\n",
       "      <td>n</td>\n",
       "      <td>y</td>\n",
       "      <td>y</td>\n",
       "      <td>n</td>\n",
       "      <td>y</td>\n",
       "    </tr>\n",
       "    <tr>\n",
       "      <td>1</td>\n",
       "      <td>1997_605191.txt</td>\n",
       "      <td>Well, here we go with the stream of consciousn...</td>\n",
       "      <td>n</td>\n",
       "      <td>n</td>\n",
       "      <td>y</td>\n",
       "      <td>n</td>\n",
       "      <td>n</td>\n",
       "    </tr>\n",
       "    <tr>\n",
       "      <td>2</td>\n",
       "      <td>1997_687252.txt</td>\n",
       "      <td>An open keyboard and buttons to push. The thin...</td>\n",
       "      <td>n</td>\n",
       "      <td>y</td>\n",
       "      <td>n</td>\n",
       "      <td>y</td>\n",
       "      <td>y</td>\n",
       "    </tr>\n",
       "    <tr>\n",
       "      <td>3</td>\n",
       "      <td>1997_568848.txt</td>\n",
       "      <td>I can't believe it!  It's really happening!  M...</td>\n",
       "      <td>y</td>\n",
       "      <td>n</td>\n",
       "      <td>y</td>\n",
       "      <td>y</td>\n",
       "      <td>n</td>\n",
       "    </tr>\n",
       "    <tr>\n",
       "      <td>4</td>\n",
       "      <td>1997_688160.txt</td>\n",
       "      <td>Well, here I go with the good old stream of co...</td>\n",
       "      <td>y</td>\n",
       "      <td>n</td>\n",
       "      <td>y</td>\n",
       "      <td>n</td>\n",
       "      <td>y</td>\n",
       "    </tr>\n",
       "  </tbody>\n",
       "</table>\n",
       "</div>"
      ],
      "text/plain": [
       "            authid                                               text ext neu  \\\n",
       "0  1997_504851.txt  Well, right now I just woke up from a mid-day ...   n   y   \n",
       "1  1997_605191.txt  Well, here we go with the stream of consciousn...   n   n   \n",
       "2  1997_687252.txt  An open keyboard and buttons to push. The thin...   n   y   \n",
       "3  1997_568848.txt  I can't believe it!  It's really happening!  M...   y   n   \n",
       "4  1997_688160.txt  Well, here I go with the good old stream of co...   y   n   \n",
       "\n",
       "  agr con opn  \n",
       "0   y   n   y  \n",
       "1   y   n   n  \n",
       "2   n   y   y  \n",
       "3   y   y   n  \n",
       "4   y   n   y  "
      ]
     },
     "execution_count": 1,
     "metadata": {},
     "output_type": "execute_result"
    }
   ],
   "source": [
    "import numpy as np\n",
    "import pandas as pd\n",
    "import matplotlib.pyplot as plt\n",
    "import seaborn as sns; sns.set()\n",
    "import re\n",
    "\n",
    "from sklearn.base import BaseEstimator, TransformerMixin\n",
    "\n",
    "from sklearn.feature_extraction.text import TfidfVectorizer\n",
    "from sklearn.pipeline import Pipeline\n",
    "\n",
    "from sklearn.model_selection import train_test_split\n",
    "from sklearn.model_selection import cross_val_score\n",
    "from sklearn.model_selection import GridSearchCV\n",
    "\n",
    "from sklearn.naive_bayes import MultinomialNB\n",
    "from sklearn.ensemble import RandomForestClassifier\n",
    "from sklearn.linear_model import LogisticRegression\n",
    "from sklearn.multioutput import MultiOutputClassifier\n",
    "import xgboost as xgb\n",
    "\n",
    "from sklearn.metrics import accuracy_score\n",
    "from sklearn.metrics import f1_score\n",
    "\n",
    "import warnings\n",
    "warnings.filterwarnings(\"ignore\")\n",
    "\n",
    "import nltk\n",
    "# nltk.download('stopwords')\n",
    "stop_words = set(nltk.corpus.stopwords.words('english'))\n",
    "\n",
    "essays_raw = pd.read_csv('data/essays.csv', engine = 'python');\n",
    "\n",
    "def clean_colnames(df):\n",
    "    df.columns = df.columns.str.replace(\"c|#\", \"\").str.lower()\n",
    "    return df\n",
    "    \n",
    "essays = clean_colnames(essays_raw.copy())\n",
    "essays.head()"
   ]
  },
  {
   "cell_type": "markdown",
   "metadata": {},
   "source": [
    "# 2. Inpect the data\n",
    "\n",
    "Let's take a quick look at the structure of the `essays` dataset."
   ]
  },
  {
   "cell_type": "code",
   "execution_count": 2,
   "metadata": {},
   "outputs": [
    {
     "name": "stdout",
     "output_type": "stream",
     "text": [
      "\n",
      "Number of rows and columns: (2467, 7) \n",
      "\n",
      "All author ids are unique!\n",
      "\n",
      "Number of missing values per column:\n",
      "authid    0\n",
      "text      0\n",
      "ext       0\n",
      "neu       0\n",
      "agr       0\n",
      "con       0\n",
      "opn       0\n",
      "dtype: int64\n"
     ]
    },
    {
     "data": {
      "text/html": [
       "<div>\n",
       "<style scoped>\n",
       "    .dataframe tbody tr th:only-of-type {\n",
       "        vertical-align: middle;\n",
       "    }\n",
       "\n",
       "    .dataframe tbody tr th {\n",
       "        vertical-align: top;\n",
       "    }\n",
       "\n",
       "    .dataframe thead th {\n",
       "        text-align: right;\n",
       "    }\n",
       "</style>\n",
       "<table border=\"1\" class=\"dataframe\">\n",
       "  <thead>\n",
       "    <tr style=\"text-align: right;\">\n",
       "      <th></th>\n",
       "      <th>authid</th>\n",
       "      <th>text</th>\n",
       "      <th>ext</th>\n",
       "      <th>neu</th>\n",
       "      <th>agr</th>\n",
       "      <th>con</th>\n",
       "      <th>opn</th>\n",
       "    </tr>\n",
       "  </thead>\n",
       "  <tbody>\n",
       "    <tr>\n",
       "      <td>0</td>\n",
       "      <td>1997_504851.txt</td>\n",
       "      <td>Well, right now I just woke up from a mid-day ...</td>\n",
       "      <td>n</td>\n",
       "      <td>y</td>\n",
       "      <td>y</td>\n",
       "      <td>n</td>\n",
       "      <td>y</td>\n",
       "    </tr>\n",
       "    <tr>\n",
       "      <td>1</td>\n",
       "      <td>1997_605191.txt</td>\n",
       "      <td>Well, here we go with the stream of consciousn...</td>\n",
       "      <td>n</td>\n",
       "      <td>n</td>\n",
       "      <td>y</td>\n",
       "      <td>n</td>\n",
       "      <td>n</td>\n",
       "    </tr>\n",
       "    <tr>\n",
       "      <td>2</td>\n",
       "      <td>1997_687252.txt</td>\n",
       "      <td>An open keyboard and buttons to push. The thin...</td>\n",
       "      <td>n</td>\n",
       "      <td>y</td>\n",
       "      <td>n</td>\n",
       "      <td>y</td>\n",
       "      <td>y</td>\n",
       "    </tr>\n",
       "    <tr>\n",
       "      <td>3</td>\n",
       "      <td>1997_568848.txt</td>\n",
       "      <td>I can't believe it!  It's really happening!  M...</td>\n",
       "      <td>y</td>\n",
       "      <td>n</td>\n",
       "      <td>y</td>\n",
       "      <td>y</td>\n",
       "      <td>n</td>\n",
       "    </tr>\n",
       "    <tr>\n",
       "      <td>4</td>\n",
       "      <td>1997_688160.txt</td>\n",
       "      <td>Well, here I go with the good old stream of co...</td>\n",
       "      <td>y</td>\n",
       "      <td>n</td>\n",
       "      <td>y</td>\n",
       "      <td>n</td>\n",
       "      <td>y</td>\n",
       "    </tr>\n",
       "  </tbody>\n",
       "</table>\n",
       "</div>"
      ],
      "text/plain": [
       "            authid                                               text ext neu  \\\n",
       "0  1997_504851.txt  Well, right now I just woke up from a mid-day ...   n   y   \n",
       "1  1997_605191.txt  Well, here we go with the stream of consciousn...   n   n   \n",
       "2  1997_687252.txt  An open keyboard and buttons to push. The thin...   n   y   \n",
       "3  1997_568848.txt  I can't believe it!  It's really happening!  M...   y   n   \n",
       "4  1997_688160.txt  Well, here I go with the good old stream of co...   y   n   \n",
       "\n",
       "  agr con opn  \n",
       "0   y   n   y  \n",
       "1   y   n   n  \n",
       "2   n   y   y  \n",
       "3   y   y   n  \n",
       "4   y   n   y  "
      ]
     },
     "execution_count": 2,
     "metadata": {},
     "output_type": "execute_result"
    }
   ],
   "source": [
    "# Print the number of rows and colums\n",
    "print(\"\\nNumber of rows and columns: {} \\n\".format(essays.shape))\n",
    "\n",
    "# Check if author ids are unique\n",
    "if essays.authid.value_counts().max() == 1:\n",
    "    print('All author ids are unique!\\n')\n",
    "else:\n",
    "    print('Author ids are not unique!\\n')\n",
    "    \n",
    "# Check if there are missing values in the dataset:\n",
    "print(\"Number of missing values per column:\\n{}\". format(essays.isnull().sum()))\n",
    "\n",
    "# Print the first few rows of the dataset\n",
    "essays.head()"
   ]
  },
  {
   "cell_type": "markdown",
   "metadata": {},
   "source": [
    "We can see that we have a datasset containing 2467 essays from the same number of individual students (Agarwal, 2014). We can also see that the dataset does not contain any missing values. Each essay is associated with an author id and 5 binary labels (one label per personality dimension):\n",
    "\n",
    "* Extraversion (`ext`)\n",
    "* Neuroticism (`neu`)\n",
    "* Agreeableness (`agr`)\n",
    "* Conscientiousness (`con`)\n",
    "* Openess (`opn`)\n",
    "\n",
    "Note that in psychological theory, the Big Five model actually considers all five traits as independent continious dimensions (and even defines sub dimensions - so-called facets - for each of them). However, for this machine learning task, the labels in our datasets represent just binary categories (e.g. a value of `y` in the `neu`-column indicates that the author of the given essay is neurotic). For more information on the Big Five personality theory see Costa and McCrae (1995).\n",
    "\n",
    "Obviously, our goal is to predict the five binary labels for a given essay. In the other words, the task at hand is a binary multi label classification task. Before we create a train-test split and preprocess our data, let's explore it a little bit further. For example we can look at the distribution of labels for each dimension."
   ]
  },
  {
   "cell_type": "code",
   "execution_count": 3,
   "metadata": {},
   "outputs": [
    {
     "data": {
      "text/html": [
       "<div>\n",
       "<style scoped>\n",
       "    .dataframe tbody tr th:only-of-type {\n",
       "        vertical-align: middle;\n",
       "    }\n",
       "\n",
       "    .dataframe tbody tr th {\n",
       "        vertical-align: top;\n",
       "    }\n",
       "\n",
       "    .dataframe thead th {\n",
       "        text-align: right;\n",
       "    }\n",
       "</style>\n",
       "<table border=\"1\" class=\"dataframe\">\n",
       "  <thead>\n",
       "    <tr style=\"text-align: right;\">\n",
       "      <th></th>\n",
       "      <th>label</th>\n",
       "      <th>dimension</th>\n",
       "      <th>count</th>\n",
       "    </tr>\n",
       "  </thead>\n",
       "  <tbody>\n",
       "    <tr>\n",
       "      <td>0</td>\n",
       "      <td>n</td>\n",
       "      <td>ext</td>\n",
       "      <td>1191</td>\n",
       "    </tr>\n",
       "    <tr>\n",
       "      <td>1</td>\n",
       "      <td>y</td>\n",
       "      <td>ext</td>\n",
       "      <td>1276</td>\n",
       "    </tr>\n",
       "    <tr>\n",
       "      <td>2</td>\n",
       "      <td>n</td>\n",
       "      <td>neu</td>\n",
       "      <td>1234</td>\n",
       "    </tr>\n",
       "    <tr>\n",
       "      <td>3</td>\n",
       "      <td>y</td>\n",
       "      <td>neu</td>\n",
       "      <td>1233</td>\n",
       "    </tr>\n",
       "    <tr>\n",
       "      <td>4</td>\n",
       "      <td>n</td>\n",
       "      <td>agr</td>\n",
       "      <td>1157</td>\n",
       "    </tr>\n",
       "    <tr>\n",
       "      <td>5</td>\n",
       "      <td>y</td>\n",
       "      <td>agr</td>\n",
       "      <td>1310</td>\n",
       "    </tr>\n",
       "    <tr>\n",
       "      <td>6</td>\n",
       "      <td>n</td>\n",
       "      <td>con</td>\n",
       "      <td>1214</td>\n",
       "    </tr>\n",
       "    <tr>\n",
       "      <td>7</td>\n",
       "      <td>y</td>\n",
       "      <td>con</td>\n",
       "      <td>1253</td>\n",
       "    </tr>\n",
       "    <tr>\n",
       "      <td>8</td>\n",
       "      <td>n</td>\n",
       "      <td>opn</td>\n",
       "      <td>1196</td>\n",
       "    </tr>\n",
       "    <tr>\n",
       "      <td>9</td>\n",
       "      <td>y</td>\n",
       "      <td>opn</td>\n",
       "      <td>1271</td>\n",
       "    </tr>\n",
       "  </tbody>\n",
       "</table>\n",
       "</div>"
      ],
      "text/plain": [
       "  label dimension  count\n",
       "0     n       ext   1191\n",
       "1     y       ext   1276\n",
       "2     n       neu   1234\n",
       "3     y       neu   1233\n",
       "4     n       agr   1157\n",
       "5     y       agr   1310\n",
       "6     n       con   1214\n",
       "7     y       con   1253\n",
       "8     n       opn   1196\n",
       "9     y       opn   1271"
      ]
     },
     "execution_count": 3,
     "metadata": {},
     "output_type": "execute_result"
    }
   ],
   "source": [
    "label_counts = pd.melt(essays.iloc[:, 2:7].apply(pd.Series.value_counts).reset_index().copy(),\n",
    "                       id_vars = ['index'], var_name = 'dimension', value_name = 'count').rename(columns = {'index': 'label'})\n",
    "\n",
    "label_counts"
   ]
  },
  {
   "cell_type": "code",
   "execution_count": 4,
   "metadata": {},
   "outputs": [
    {
     "data": {
      "text/plain": [
       "<matplotlib.legend.Legend at 0x27db1a3b508>"
      ]
     },
     "execution_count": 4,
     "metadata": {},
     "output_type": "execute_result"
    },
    {
     "data": {
      "image/png": "[encoded data removed]",
      "text/plain": [
       "<Figure size 432x288 with 1 Axes>"
      ]
     },
     "metadata": {
      "needs_background": "light"
     },
     "output_type": "display_data"
    }
   ],
   "source": [
    "sns.barplot(x = \"dimension\", y = \"count\", hue = \"label\", data = label_counts)\n",
    "plt.legend(loc = 'center right')\n",
    "plt.legend(bbox_to_anchor = (1.05, 1), loc = 2)"
   ]
  },
  {
   "cell_type": "markdown",
   "metadata": {},
   "source": [
    "In the plot we can see that for each dimension the number of samples on the positive class (`y`) is roughly equal to the number of samples of the negative class (`n`). In other words, our dataset is appears to be pretty balanced (at least, if you look at each dimension separatly) Let's also look at the counts of individual combinations of dimensions:"
   ]
  },
  {
   "cell_type": "code",
   "execution_count": 5,
   "metadata": {},
   "outputs": [
    {
     "data": {
      "text/plain": [
       "32"
      ]
     },
     "execution_count": 5,
     "metadata": {},
     "output_type": "execute_result"
    },
    {
     "data": {
      "image/png": "[encoded data removed]",
      "text/plain": [
       "<Figure size 432x288 with 1 Axes>"
      ]
     },
     "metadata": {
      "needs_background": "light"
     },
     "output_type": "display_data"
    }
   ],
   "source": [
    "indiv_combs = (essays['ext'] + essays['neu'] + essays['agr'] + essays['con'] + essays['opn']). \\\n",
    "               value_counts()\n",
    "\n",
    "indiv_combs.plot(kind = \"bar\", color = \"lightblue\")\n",
    "len(indiv_combs)"
   ]
  },
  {
   "cell_type": "markdown",
   "metadata": {},
   "source": [
    "From the plot above we can see that the individual combinations of dimensions are not equally frequent. Depending on how we attempt to solve our classification problem later on, this is something we want to keep in mind.\n",
    "\n",
    "As another exploration step, let's take a look at the number of characters in the `text`-column:"
   ]
  },
  {
   "cell_type": "code",
   "execution_count": 6,
   "metadata": {},
   "outputs": [
    {
     "name": "stdout",
     "output_type": "stream",
     "text": [
      "AxesSubplot(0.125,0.125;0.775x0.755)\n"
     ]
    },
    {
     "data": {
      "image/png": "[encoded data removed]",
      "text/plain": [
       "<Figure size 432x288 with 1 Axes>"
      ]
     },
     "metadata": {
      "needs_background": "light"
     },
     "output_type": "display_data"
    }
   ],
   "source": [
    "char_counts = essays.text.str.len()\n",
    "\n",
    "print(char_counts.hist(bins = int(np.sqrt(len(essays)))))"
   ]
  },
  {
   "cell_type": "markdown",
   "metadata": {},
   "source": [
    "Most essays appear to be between 2000 and 4000 characters long. There appear to be some outliers as well (e.g. some essays with a relatively high character count). This is something we want to keep in mind for later, as well.\n",
    "\n",
    "Also, we should look at some sample essays to see which kind of preprocessing we should do later on:"
   ]
  },
  {
   "cell_type": "code",
   "execution_count": 7,
   "metadata": {
    "scrolled": true
   },
   "outputs": [
    {
     "data": {
      "text/plain": [
       "'Well, right now I just woke up from a mid-day nap. It\\'s sort of weird, but ever since I moved to Texas, I have had problems concentrating on things. I remember starting my homework in  10th grade as soon as the clock struck 4 and not stopping until it was done. Of course it was easier, but I still did it. But when I moved here, the homework got a little more challenging and there was a lot more busy work, and so I decided not to spend hours doing it, and just getting by. But the thing was that I always paid attention in class and just plain out knew the stuff, and now that I look back, if I had really worked hard and stayed on track the last two years without getting  lazy, I would have been a genius, but hey, that\\'s all good. It\\'s too late to correct the past, but I don\\'t really know how to stay focused n the future. The one thing I know is that when  people say that b/c they live on campus they can\\'t concentrate, it\\'s b. s. For me it would be easier there, but alas, I\\'m living at home under the watchful eye of my parents and a little nagging sister that just nags and nags and nags. You get my point. Another thing is, is that it\\'s just a hassle to have to go all the way back to  school to just to go to library to study. I need to move out, but I don\\'t know how to tell them. Don\\'t get me wrong, I see where they\\'re coming from and why they don\\'t  want me to move out, but I need to get away and be on my own. They\\'ve sheltered me so much and I don\\'t have a worry in the world. The only thing that they ask me to do is keep my room clean and help out with the business once in a while, but I can\\'t even do that. But I need to. But I got enough money from UT to live at a dorm or apartment  next semester and I think I’ll take advantage of that. But off that topic now, I went to sixth street last night and had a blast. I haven\\'t been there in so long. Now I know why I love Austin so much. When I lived in VA, I used to go up to DC all the time and had a blast, but here, there are so many students running around at night. I just want to have some fun and I know that I am responsible enough to be able to  have fun, but keep my priorities straight. Living at home, I can\\'t go out at all without them asking where? with who?  why?  when are you coming back?  and all those  questions. I just wish I could be treated like a responsible person for once, but  my sister screwed that up for me. She went crazy the second she moved into college and messed up her whole college career by partying too much. And that\\'s the ultimate reason that they don\\'t want me to go and have fun. But I\\'m not little anymore,  and they need to let me go and explore the world, but I’m Indian; with Indian culture, with Indian values. They go against \"having fun. \"  I mean in the sense of meeting people or going out with people or partying or just plain having fun. My school is difficult already, but somehow I think that having more freedom will put more pressure on me to  do better in school b/c that\\'s what my parents and ultimately I expect of myself. Well it\\'s been fun writing, I don\\'t know if you go anything out of this writing, but it helped me get some of my thoughts into order. So I hope you had fun reading it and good luck TA\\'s.    '"
      ]
     },
     "execution_count": 7,
     "metadata": {},
     "output_type": "execute_result"
    }
   ],
   "source": [
    "essays.text[0]"
   ]
  },
  {
   "cell_type": "markdown",
   "metadata": {},
   "source": [
    "The text looks pretty messy: For example, there are a lot of special characters and abbreviations. This is not optimal if you want to feed the text to a model."
   ]
  },
  {
   "cell_type": "markdown",
   "metadata": {},
   "source": [
    "# 3. Preprocessing\n",
    "\n",
    "In this part, we will create classes that allow us clean our dataset. The goal is to have a nice and clean dataset that we can feed into a machine learning model.\n",
    "\n",
    "Note that we define a class for each preprocessing step, so that we can build a pipeline that combines all steps later on. We implement these classes as *transformer classes* to be able to feed them into pipelines. While `sklearn`comes with a lot of useful *transformer classes* already, we implement most classes we need by hand to get some practice.\n",
    "\n",
    "We also test each class on a copy of the dataset to make sure that the classes work as expected.\n",
    "\n",
    "## 3.1 Define preprocessing functions\n",
    "First, a class that cleans the column names of the raw data."
   ]
  },
  {
   "cell_type": "code",
   "execution_count": 8,
   "metadata": {},
   "outputs": [
    {
     "data": {
      "text/html": [
       "<div>\n",
       "<style scoped>\n",
       "    .dataframe tbody tr th:only-of-type {\n",
       "        vertical-align: middle;\n",
       "    }\n",
       "\n",
       "    .dataframe tbody tr th {\n",
       "        vertical-align: top;\n",
       "    }\n",
       "\n",
       "    .dataframe thead th {\n",
       "        text-align: right;\n",
       "    }\n",
       "</style>\n",
       "<table border=\"1\" class=\"dataframe\">\n",
       "  <thead>\n",
       "    <tr style=\"text-align: right;\">\n",
       "      <th></th>\n",
       "      <th>authid</th>\n",
       "      <th>text</th>\n",
       "      <th>ext</th>\n",
       "      <th>neu</th>\n",
       "      <th>agr</th>\n",
       "      <th>con</th>\n",
       "      <th>opn</th>\n",
       "    </tr>\n",
       "  </thead>\n",
       "  <tbody>\n",
       "    <tr>\n",
       "      <td>0</td>\n",
       "      <td>1997_504851.txt</td>\n",
       "      <td>Well, right now I just woke up from a mid-day ...</td>\n",
       "      <td>n</td>\n",
       "      <td>y</td>\n",
       "      <td>y</td>\n",
       "      <td>n</td>\n",
       "      <td>y</td>\n",
       "    </tr>\n",
       "    <tr>\n",
       "      <td>1</td>\n",
       "      <td>1997_605191.txt</td>\n",
       "      <td>Well, here we go with the stream of consciousn...</td>\n",
       "      <td>n</td>\n",
       "      <td>n</td>\n",
       "      <td>y</td>\n",
       "      <td>n</td>\n",
       "      <td>n</td>\n",
       "    </tr>\n",
       "    <tr>\n",
       "      <td>2</td>\n",
       "      <td>1997_687252.txt</td>\n",
       "      <td>An open keyboard and buttons to push. The thin...</td>\n",
       "      <td>n</td>\n",
       "      <td>y</td>\n",
       "      <td>n</td>\n",
       "      <td>y</td>\n",
       "      <td>y</td>\n",
       "    </tr>\n",
       "    <tr>\n",
       "      <td>3</td>\n",
       "      <td>1997_568848.txt</td>\n",
       "      <td>I can't believe it!  It's really happening!  M...</td>\n",
       "      <td>y</td>\n",
       "      <td>n</td>\n",
       "      <td>y</td>\n",
       "      <td>y</td>\n",
       "      <td>n</td>\n",
       "    </tr>\n",
       "    <tr>\n",
       "      <td>4</td>\n",
       "      <td>1997_688160.txt</td>\n",
       "      <td>Well, here I go with the good old stream of co...</td>\n",
       "      <td>y</td>\n",
       "      <td>n</td>\n",
       "      <td>y</td>\n",
       "      <td>n</td>\n",
       "      <td>y</td>\n",
       "    </tr>\n",
       "  </tbody>\n",
       "</table>\n",
       "</div>"
      ],
      "text/plain": [
       "            authid                                               text ext neu  \\\n",
       "0  1997_504851.txt  Well, right now I just woke up from a mid-day ...   n   y   \n",
       "1  1997_605191.txt  Well, here we go with the stream of consciousn...   n   n   \n",
       "2  1997_687252.txt  An open keyboard and buttons to push. The thin...   n   y   \n",
       "3  1997_568848.txt  I can't believe it!  It's really happening!  M...   y   n   \n",
       "4  1997_688160.txt  Well, here I go with the good old stream of co...   y   n   \n",
       "\n",
       "  agr con opn  \n",
       "0   y   n   y  \n",
       "1   y   n   n  \n",
       "2   n   y   y  \n",
       "3   y   y   n  \n",
       "4   y   n   y  "
      ]
     },
     "execution_count": 8,
     "metadata": {},
     "output_type": "execute_result"
    }
   ],
   "source": [
    "class ColNameCleaner(BaseEstimator, TransformerMixin):\n",
    "    def __init__(self):\n",
    "        pass\n",
    "    \n",
    "    def fit(self, X, y = None):\n",
    "        return self\n",
    "    \n",
    "    def transform(self, X):\n",
    "        X.columns = X.columns.str.replace(\"c|#\", \"\").str.lower()\n",
    "        return X\n",
    "\n",
    "cleaner = ColNameCleaner()\n",
    "cleaner.transform(essays_raw.copy()).head()"
   ]
  },
  {
   "cell_type": "markdown",
   "metadata": {},
   "source": [
    "Next, we implement a class that drops the `#AUTHID` / `authid` column because we actually do not need it for the classification task."
   ]
  },
  {
   "cell_type": "code",
   "execution_count": 9,
   "metadata": {},
   "outputs": [
    {
     "data": {
      "text/html": [
       "<div>\n",
       "<style scoped>\n",
       "    .dataframe tbody tr th:only-of-type {\n",
       "        vertical-align: middle;\n",
       "    }\n",
       "\n",
       "    .dataframe tbody tr th {\n",
       "        vertical-align: top;\n",
       "    }\n",
       "\n",
       "    .dataframe thead th {\n",
       "        text-align: right;\n",
       "    }\n",
       "</style>\n",
       "<table border=\"1\" class=\"dataframe\">\n",
       "  <thead>\n",
       "    <tr style=\"text-align: right;\">\n",
       "      <th></th>\n",
       "      <th>TEXT</th>\n",
       "      <th>cEXT</th>\n",
       "      <th>cNEU</th>\n",
       "      <th>cAGR</th>\n",
       "      <th>cCON</th>\n",
       "      <th>cOPN</th>\n",
       "    </tr>\n",
       "  </thead>\n",
       "  <tbody>\n",
       "    <tr>\n",
       "      <td>0</td>\n",
       "      <td>Well, right now I just woke up from a mid-day ...</td>\n",
       "      <td>n</td>\n",
       "      <td>y</td>\n",
       "      <td>y</td>\n",
       "      <td>n</td>\n",
       "      <td>y</td>\n",
       "    </tr>\n",
       "    <tr>\n",
       "      <td>1</td>\n",
       "      <td>Well, here we go with the stream of consciousn...</td>\n",
       "      <td>n</td>\n",
       "      <td>n</td>\n",
       "      <td>y</td>\n",
       "      <td>n</td>\n",
       "      <td>n</td>\n",
       "    </tr>\n",
       "    <tr>\n",
       "      <td>2</td>\n",
       "      <td>An open keyboard and buttons to push. The thin...</td>\n",
       "      <td>n</td>\n",
       "      <td>y</td>\n",
       "      <td>n</td>\n",
       "      <td>y</td>\n",
       "      <td>y</td>\n",
       "    </tr>\n",
       "    <tr>\n",
       "      <td>3</td>\n",
       "      <td>I can't believe it!  It's really happening!  M...</td>\n",
       "      <td>y</td>\n",
       "      <td>n</td>\n",
       "      <td>y</td>\n",
       "      <td>y</td>\n",
       "      <td>n</td>\n",
       "    </tr>\n",
       "    <tr>\n",
       "      <td>4</td>\n",
       "      <td>Well, here I go with the good old stream of co...</td>\n",
       "      <td>y</td>\n",
       "      <td>n</td>\n",
       "      <td>y</td>\n",
       "      <td>n</td>\n",
       "      <td>y</td>\n",
       "    </tr>\n",
       "  </tbody>\n",
       "</table>\n",
       "</div>"
      ],
      "text/plain": [
       "                                                TEXT cEXT cNEU cAGR cCON cOPN\n",
       "0  Well, right now I just woke up from a mid-day ...    n    y    y    n    y\n",
       "1  Well, here we go with the stream of consciousn...    n    n    y    n    n\n",
       "2  An open keyboard and buttons to push. The thin...    n    y    n    y    y\n",
       "3  I can't believe it!  It's really happening!  M...    y    n    y    y    n\n",
       "4  Well, here I go with the good old stream of co...    y    n    y    n    y"
      ]
     },
     "execution_count": 9,
     "metadata": {},
     "output_type": "execute_result"
    }
   ],
   "source": [
    "from sklearn.base import BaseEstimator, TransformerMixin\n",
    "\n",
    "class ColDropper(BaseEstimator, TransformerMixin):\n",
    "    def __init__(self, column):\n",
    "        self.column = column\n",
    "    \n",
    "    def fit(self, X, y = None):\n",
    "        return self\n",
    "    \n",
    "    def transform(self, X):\n",
    "        X = X.drop(columns = self.column)\n",
    "        return X\n",
    "    \n",
    "dropper = ColDropper(column = \"#AUTHID\")\n",
    "dropper.transform(essays_raw.copy()).head()"
   ]
  },
  {
   "cell_type": "markdown",
   "metadata": {},
   "source": [
    "\"For good measure\", we also implement a class that converts the `y` labels to `True` on the `n` labels to `False` for each personality dimension. Note that in order to use this class the column names need to be cleaned up already."
   ]
  },
  {
   "cell_type": "code",
   "execution_count": 10,
   "metadata": {},
   "outputs": [
    {
     "data": {
      "text/html": [
       "<div>\n",
       "<style scoped>\n",
       "    .dataframe tbody tr th:only-of-type {\n",
       "        vertical-align: middle;\n",
       "    }\n",
       "\n",
       "    .dataframe tbody tr th {\n",
       "        vertical-align: top;\n",
       "    }\n",
       "\n",
       "    .dataframe thead th {\n",
       "        text-align: right;\n",
       "    }\n",
       "</style>\n",
       "<table border=\"1\" class=\"dataframe\">\n",
       "  <thead>\n",
       "    <tr style=\"text-align: right;\">\n",
       "      <th></th>\n",
       "      <th>authid</th>\n",
       "      <th>text</th>\n",
       "      <th>ext</th>\n",
       "      <th>neu</th>\n",
       "      <th>agr</th>\n",
       "      <th>con</th>\n",
       "      <th>opn</th>\n",
       "    </tr>\n",
       "  </thead>\n",
       "  <tbody>\n",
       "    <tr>\n",
       "      <td>0</td>\n",
       "      <td>1997_504851.txt</td>\n",
       "      <td>Well, right now I just woke up from a mid-day ...</td>\n",
       "      <td>False</td>\n",
       "      <td>True</td>\n",
       "      <td>True</td>\n",
       "      <td>False</td>\n",
       "      <td>True</td>\n",
       "    </tr>\n",
       "    <tr>\n",
       "      <td>1</td>\n",
       "      <td>1997_605191.txt</td>\n",
       "      <td>Well, here we go with the stream of consciousn...</td>\n",
       "      <td>False</td>\n",
       "      <td>False</td>\n",
       "      <td>True</td>\n",
       "      <td>False</td>\n",
       "      <td>False</td>\n",
       "    </tr>\n",
       "    <tr>\n",
       "      <td>2</td>\n",
       "      <td>1997_687252.txt</td>\n",
       "      <td>An open keyboard and buttons to push. The thin...</td>\n",
       "      <td>False</td>\n",
       "      <td>True</td>\n",
       "      <td>False</td>\n",
       "      <td>True</td>\n",
       "      <td>True</td>\n",
       "    </tr>\n",
       "    <tr>\n",
       "      <td>3</td>\n",
       "      <td>1997_568848.txt</td>\n",
       "      <td>I can't believe it!  It's really happening!  M...</td>\n",
       "      <td>True</td>\n",
       "      <td>False</td>\n",
       "      <td>True</td>\n",
       "      <td>True</td>\n",
       "      <td>False</td>\n",
       "    </tr>\n",
       "    <tr>\n",
       "      <td>4</td>\n",
       "      <td>1997_688160.txt</td>\n",
       "      <td>Well, here I go with the good old stream of co...</td>\n",
       "      <td>True</td>\n",
       "      <td>False</td>\n",
       "      <td>True</td>\n",
       "      <td>False</td>\n",
       "      <td>True</td>\n",
       "    </tr>\n",
       "  </tbody>\n",
       "</table>\n",
       "</div>"
      ],
      "text/plain": [
       "            authid                                               text    ext  \\\n",
       "0  1997_504851.txt  Well, right now I just woke up from a mid-day ...  False   \n",
       "1  1997_605191.txt  Well, here we go with the stream of consciousn...  False   \n",
       "2  1997_687252.txt  An open keyboard and buttons to push. The thin...  False   \n",
       "3  1997_568848.txt  I can't believe it!  It's really happening!  M...   True   \n",
       "4  1997_688160.txt  Well, here I go with the good old stream of co...   True   \n",
       "\n",
       "     neu    agr    con    opn  \n",
       "0   True   True  False   True  \n",
       "1  False   True  False  False  \n",
       "2   True  False   True   True  \n",
       "3  False   True   True  False  \n",
       "4  False   True  False   True  "
      ]
     },
     "execution_count": 10,
     "metadata": {},
     "output_type": "execute_result"
    }
   ],
   "source": [
    "class LabelTransformer(BaseEstimator, TransformerMixin):\n",
    "    def __init__(self):\n",
    "        pass\n",
    "    \n",
    "    def fit(self, X, y = None):\n",
    "        return self\n",
    "    \n",
    "    def transform(self, X):\n",
    "        X['ext'], X['neu'], X['agr'], X['con'], X['opn'] = [[True if x == 'y' else False for x in col] \\\n",
    "                                                                                         for col in [X['ext'],\n",
    "                                                                                                     X['neu'],\n",
    "                                                                                                     X['agr'],\n",
    "                                                                                                     X['con'], \n",
    "                                                                                                     X['opn']]]\n",
    "        return X\n",
    "    \n",
    "lbl_trnsfr = LabelTransformer()\n",
    "lbl_trnsfr.transform(essays.copy()).head()"
   ]
  },
  {
   "cell_type": "markdown",
   "metadata": {},
   "source": [
    "As we can see from the output above, the string labels got turned into boolean values (True, False).\n",
    "\n",
    "Next, we create a function to clean the `TEXT` /`text` column. This function turns all letters to lower case and removes some abbreviations that are common in the english language. It also removes special characters and multiple consecutive spaces."
   ]
  },
  {
   "cell_type": "code",
   "execution_count": 11,
   "metadata": {},
   "outputs": [
    {
     "data": {
      "text/plain": [
       "'well right now i just woke up from a mid day nap it sort of weird but ever since i moved to texas i have had problems concentrating on things i remember starting my homework in 10th grade as soon as the clock struck 4 and not stopping until it was done of course it was easier but i still did it but when i moved here the homework got a little more challenging and there was a lot more busy work and so i decided not to spend hours doing it and just getting by but the thing was that i always paid attention in class and just plain out knew the stuff and now that i look back if i had really worked hard and stayed on track the last two years without getting lazy i would have been a genius but hey that all good it too late to correct the past but i do not really know how to stay focused n the future the one thing i know is that when people say that because they live on campus they can not concentrate it b s for me it would be easier there but alas i am living at home under the watchful eye of my parents and a little nagging sister that just nags and nags and nags you get my point another thing is is that it just a hassle to have to go all the way back to school to just to go to library to study i need to move out but i do not know how to tell them do not get me wrong i see where they are coming from and why they do not want me to move out but i need to get away and be on my own they have sheltered me so much and i do not have a worry in the world the only thing that they ask me to do is keep my room clean and help out with the business once in a while but i can not even do that but i need to but i got enough money from ut to live at a dorm or apartment next semester and i think i will take advantage of that but off that topic now i went to sixth street last night and had a blast i have not been there in so long now i know why i love austin so much when i lived in va i used to go up to dc all the time and had a blast but here there are so many students running around at night i just want to have some fun and i know that i am responsible enough to be able to have fun but keep my priorities straight living at home i can not go out at all without them asking where with who why when are you coming back and all those questions i just wish i could be treated like a responsible person for once but my sister screwed that up for me she went crazy the second she moved into college and messed up her whole college career by partying too much and that the ultimate reason that they do not want me to go and have fun but i am not little anymore and they need to let me go and explore the world but i am indian with indian culture with indian values they go against having fun i mean in the sense of meeting people or going out with people or partying or just plain having fun my school is difficult already but somehow i think that having more freedom will put more pressure on me to do better in school because that what my parents and ultimately i expect of myself well it been fun writing i do not know if you go anything out of this writing but it helped me get some of my thoughts into order so i hope you had fun reading it and good luck ta'"
      ]
     },
     "execution_count": 11,
     "metadata": {},
     "output_type": "execute_result"
    }
   ],
   "source": [
    "def clean_text(text):\n",
    "    text = text.lower()\n",
    "    text = re.sub(r\"what's\", \"what is \", text)\n",
    "    text = re.sub(r\"i’m\", \"i am \", text)\n",
    "    text = re.sub('b/c', 'because', text)\n",
    "    text = re.sub(r\"\\'s\", \" \", text)\n",
    "    text = re.sub(r\"\\'ve\", \" have \", text)\n",
    "    text = re.sub(r\"can't\", \"can not \", text)\n",
    "    text = re.sub(r\"n't\", \" not \", text)\n",
    "    text = re.sub(r\"i'm\", \"i am \", text)\n",
    "    text = re.sub(r\"\\'re\", \" are \", text)\n",
    "    text = re.sub(r\"\\'d\", \" would \", text)\n",
    "    text = re.sub(r\"\\'ll\", \" will \", text)\n",
    "    text = re.sub(r\"’ll\", \" will \", text)\n",
    "    text = re.sub(r\"\\'scuse\", \" excuse \", text)\n",
    "    text = re.sub('\\W', ' ', text)\n",
    "    text = re.sub('\\s+', ' ', text)\n",
    "    text = text.strip(' ')\n",
    "    return text\n",
    "\n",
    "clean_text(essays_raw.TEXT[0])"
   ]
  },
  {
   "cell_type": "markdown",
   "metadata": {},
   "source": [
    "When we take a look at our sample essay now, it looks pretty good. Note that to make things simpler a string like `it's` is striped down to just `it`. We chose to do so because `is` is a typical stopword that we'll remove anyway.\n",
    "\n",
    "Now, we implement a class `TextCleaner` that applies the `clean_text` function to every row in the  `TEXT` / `text` column."
   ]
  },
  {
   "cell_type": "code",
   "execution_count": 12,
   "metadata": {},
   "outputs": [
    {
     "data": {
      "text/html": [
       "<div>\n",
       "<style scoped>\n",
       "    .dataframe tbody tr th:only-of-type {\n",
       "        vertical-align: middle;\n",
       "    }\n",
       "\n",
       "    .dataframe tbody tr th {\n",
       "        vertical-align: top;\n",
       "    }\n",
       "\n",
       "    .dataframe thead th {\n",
       "        text-align: right;\n",
       "    }\n",
       "</style>\n",
       "<table border=\"1\" class=\"dataframe\">\n",
       "  <thead>\n",
       "    <tr style=\"text-align: right;\">\n",
       "      <th></th>\n",
       "      <th>#AUTHID</th>\n",
       "      <th>TEXT</th>\n",
       "      <th>cEXT</th>\n",
       "      <th>cNEU</th>\n",
       "      <th>cAGR</th>\n",
       "      <th>cCON</th>\n",
       "      <th>cOPN</th>\n",
       "    </tr>\n",
       "  </thead>\n",
       "  <tbody>\n",
       "    <tr>\n",
       "      <td>0</td>\n",
       "      <td>1997_504851.txt</td>\n",
       "      <td>well right now i just woke up from a mid day n...</td>\n",
       "      <td>n</td>\n",
       "      <td>y</td>\n",
       "      <td>y</td>\n",
       "      <td>n</td>\n",
       "      <td>y</td>\n",
       "    </tr>\n",
       "    <tr>\n",
       "      <td>1</td>\n",
       "      <td>1997_605191.txt</td>\n",
       "      <td>well here we go with the stream of consciousne...</td>\n",
       "      <td>n</td>\n",
       "      <td>n</td>\n",
       "      <td>y</td>\n",
       "      <td>n</td>\n",
       "      <td>n</td>\n",
       "    </tr>\n",
       "    <tr>\n",
       "      <td>2</td>\n",
       "      <td>1997_687252.txt</td>\n",
       "      <td>an open keyboard and buttons to push the thing...</td>\n",
       "      <td>n</td>\n",
       "      <td>y</td>\n",
       "      <td>n</td>\n",
       "      <td>y</td>\n",
       "      <td>y</td>\n",
       "    </tr>\n",
       "    <tr>\n",
       "      <td>3</td>\n",
       "      <td>1997_568848.txt</td>\n",
       "      <td>i can not believe it it really happening my pu...</td>\n",
       "      <td>y</td>\n",
       "      <td>n</td>\n",
       "      <td>y</td>\n",
       "      <td>y</td>\n",
       "      <td>n</td>\n",
       "    </tr>\n",
       "    <tr>\n",
       "      <td>4</td>\n",
       "      <td>1997_688160.txt</td>\n",
       "      <td>well here i go with the good old stream of con...</td>\n",
       "      <td>y</td>\n",
       "      <td>n</td>\n",
       "      <td>y</td>\n",
       "      <td>n</td>\n",
       "      <td>y</td>\n",
       "    </tr>\n",
       "  </tbody>\n",
       "</table>\n",
       "</div>"
      ],
      "text/plain": [
       "           #AUTHID                                               TEXT cEXT  \\\n",
       "0  1997_504851.txt  well right now i just woke up from a mid day n...    n   \n",
       "1  1997_605191.txt  well here we go with the stream of consciousne...    n   \n",
       "2  1997_687252.txt  an open keyboard and buttons to push the thing...    n   \n",
       "3  1997_568848.txt  i can not believe it it really happening my pu...    y   \n",
       "4  1997_688160.txt  well here i go with the good old stream of con...    y   \n",
       "\n",
       "  cNEU cAGR cCON cOPN  \n",
       "0    y    y    n    y  \n",
       "1    n    y    n    n  \n",
       "2    y    n    y    y  \n",
       "3    n    y    y    n  \n",
       "4    n    y    n    y  "
      ]
     },
     "execution_count": 12,
     "metadata": {},
     "output_type": "execute_result"
    }
   ],
   "source": [
    "# Pipeline test\n",
    "class TextCleaner(BaseEstimator, TransformerMixin):\n",
    "    def __init__(self, column):\n",
    "        self.column = column\n",
    "    \n",
    "    def fit(self, X, y = None):\n",
    "        return self\n",
    "    \n",
    "    def transform(self, X):\n",
    "        X[self.column] = X[self.column].apply(clean_text)\n",
    "        return X\n",
    "\n",
    "cleaner = TextCleaner(\"TEXT\")\n",
    "cleaner.transform(essays_raw.copy()).head()"
   ]
  },
  {
   "cell_type": "markdown",
   "metadata": {},
   "source": [
    "Looks alright. Our preprocessing classes seem to work fine. It's time to build a pipeline that combines the different preprocessing steps."
   ]
  },
  {
   "cell_type": "markdown",
   "metadata": {},
   "source": [
    "## 3.2 Build and apply cleaning pipeline\n",
    "\n",
    "We create a pipelines that contain the preprocessing steps we defined earlier. We can pass the raw data to the apply to create a clean data set that is (almost) ready to be fed to an machine learning algorithm.\n",
    "\n",
    "In fact, we will create a first pipeline that applies all the steps we defined earlier. A second pipeline will be applied after the train-test-split and will use the class `TfidfVectorizer` from `sklearn` to tokenize the text data and compute tf-idf statistics. This class can also be used to remove stop words from text input. Stop words are words that occur very frequently and thus do not contain much information about the specific content of a text. This pipeline will also contain the model step (i.e. fitting a random forrest).\n",
    "\n",
    "This seperation into two pipelines is neccessary because  `TfidfVectorizer` alters the shape of the input data. Thus, in order to feed datasets of different sizes (i.e. the test set or new data in general) into a trained model, tokenization should go hand in hand with the modelling step. A disadvantage of this approach is that everytime we fit a model, the  tokenization step needs to be executed as well which takes more time compared to just fitting the model.\n",
    "\n",
    "Building the first pipeline that applies all the cleaning steps except tokenization of the text column:"
   ]
  },
  {
   "cell_type": "code",
   "execution_count": 13,
   "metadata": {
    "scrolled": false
   },
   "outputs": [
    {
     "data": {
      "text/html": [
       "<div>\n",
       "<style scoped>\n",
       "    .dataframe tbody tr th:only-of-type {\n",
       "        vertical-align: middle;\n",
       "    }\n",
       "\n",
       "    .dataframe tbody tr th {\n",
       "        vertical-align: top;\n",
       "    }\n",
       "\n",
       "    .dataframe thead th {\n",
       "        text-align: right;\n",
       "    }\n",
       "</style>\n",
       "<table border=\"1\" class=\"dataframe\">\n",
       "  <thead>\n",
       "    <tr style=\"text-align: right;\">\n",
       "      <th></th>\n",
       "      <th>text</th>\n",
       "      <th>ext</th>\n",
       "      <th>neu</th>\n",
       "      <th>agr</th>\n",
       "      <th>con</th>\n",
       "      <th>opn</th>\n",
       "    </tr>\n",
       "  </thead>\n",
       "  <tbody>\n",
       "    <tr>\n",
       "      <td>0</td>\n",
       "      <td>well right now i just woke up from a mid day n...</td>\n",
       "      <td>False</td>\n",
       "      <td>True</td>\n",
       "      <td>True</td>\n",
       "      <td>False</td>\n",
       "      <td>True</td>\n",
       "    </tr>\n",
       "    <tr>\n",
       "      <td>1</td>\n",
       "      <td>well here we go with the stream of consciousne...</td>\n",
       "      <td>False</td>\n",
       "      <td>False</td>\n",
       "      <td>True</td>\n",
       "      <td>False</td>\n",
       "      <td>False</td>\n",
       "    </tr>\n",
       "    <tr>\n",
       "      <td>2</td>\n",
       "      <td>an open keyboard and buttons to push the thing...</td>\n",
       "      <td>False</td>\n",
       "      <td>True</td>\n",
       "      <td>False</td>\n",
       "      <td>True</td>\n",
       "      <td>True</td>\n",
       "    </tr>\n",
       "    <tr>\n",
       "      <td>3</td>\n",
       "      <td>i can not believe it it really happening my pu...</td>\n",
       "      <td>True</td>\n",
       "      <td>False</td>\n",
       "      <td>True</td>\n",
       "      <td>True</td>\n",
       "      <td>False</td>\n",
       "    </tr>\n",
       "    <tr>\n",
       "      <td>4</td>\n",
       "      <td>well here i go with the good old stream of con...</td>\n",
       "      <td>True</td>\n",
       "      <td>False</td>\n",
       "      <td>True</td>\n",
       "      <td>False</td>\n",
       "      <td>True</td>\n",
       "    </tr>\n",
       "  </tbody>\n",
       "</table>\n",
       "</div>"
      ],
      "text/plain": [
       "                                                text    ext    neu    agr  \\\n",
       "0  well right now i just woke up from a mid day n...  False   True   True   \n",
       "1  well here we go with the stream of consciousne...  False  False   True   \n",
       "2  an open keyboard and buttons to push the thing...  False   True  False   \n",
       "3  i can not believe it it really happening my pu...   True  False   True   \n",
       "4  well here i go with the good old stream of con...   True  False   True   \n",
       "\n",
       "     con    opn  \n",
       "0  False   True  \n",
       "1  False  False  \n",
       "2   True   True  \n",
       "3   True  False  \n",
       "4  False   True  "
      ]
     },
     "execution_count": 13,
     "metadata": {},
     "output_type": "execute_result"
    }
   ],
   "source": [
    "clean_pipeline = Pipeline([('colclean', ColNameCleaner()),\n",
    "                           ('idcoldrop', ColDropper(\"authid\")),\n",
    "                           ('lbltransf', LabelTransformer()),\n",
    "                           ('txtclean', TextCleaner(\"text\"))])\n",
    "\n",
    "essays_clean = clean_pipeline.transform(essays_raw.copy())\n",
    "essays_clean.head()"
   ]
  },
  {
   "cell_type": "markdown",
   "metadata": {},
   "source": [
    "## 3.3 Create a training set and a testing set\n",
    "\n",
    "We create a train test split from the raw data."
   ]
  },
  {
   "cell_type": "code",
   "execution_count": 14,
   "metadata": {},
   "outputs": [
    {
     "name": "stdout",
     "output_type": "stream",
     "text": [
      "(1726,)\n",
      "(741,)\n",
      "(1726, 5)\n",
      "(741, 5)\n"
     ]
    }
   ],
   "source": [
    "train, test = train_test_split(essays_clean, random_state = 42, test_size = 0.3, shuffle = True)\n",
    "\n",
    "X_train = train['text'].copy()\n",
    "Y_train = train.copy().drop('text', axis = 1)\n",
    "\n",
    "X_test = test['text'].copy()\n",
    "Y_test = test.copy().drop('text', axis = 1)\n",
    "\n",
    "print(X_train.shape)\n",
    "print(X_test.shape)\n",
    "print(Y_train.shape)\n",
    "print(Y_test.shape)"
   ]
  },
  {
   "cell_type": "markdown",
   "metadata": {},
   "source": [
    "# 4. Explore models\n",
    "\n",
    "In the next step we try out some common machine learning algorithms on the preprocessed training set and see which algorithms appear to be promising. We also choose the approach to fit a separate model for each label as done by previous work (e.g. Majumder et al., 2017). We write a function that applies a modelling pipleine (computing tf-idf statistics for the `text` column and fittting seperate model for each personality dimension). The function also evalutes the model on the training set using the `accuracy` metric."
   ]
  },
  {
   "cell_type": "code",
   "execution_count": 15,
   "metadata": {},
   "outputs": [],
   "source": [
    "def multi_label_clf(classifier, categories = ['ext', 'neu', 'agr', 'con', 'opn']):\n",
    "    \n",
    "    # Define the modelling pipeline in the function so that the function is self-contained\n",
    "    model_pipeline = Pipeline([('tfidf', TfidfVectorizer(stop_words = stop_words)),\n",
    "                               ('clf', classifier)])\n",
    "    \n",
    "    print('Accuracy using {}'.format(classifier))\n",
    "    \n",
    "    for category in categories:\n",
    "        print(\"Fitting model for {}...\".format(category))\n",
    "        \n",
    "        model_pipeline.fit(X_train, Y_train[category])\n",
    "        preds = model_pipeline.predict(X_train)\n",
    "        \n",
    "        print('Dimension {}: {}'.format(category, accuracy_score(Y_train[category], preds)))\n",
    "    \n",
    "    print('\\n')"
   ]
  },
  {
   "cell_type": "markdown",
   "metadata": {},
   "source": [
    "Now, we can easily apply this function to some algorithms we are interested in. By the way, as an alternative approach we could have used `sklearn`'s `MultiOuputClassifier` class to handle multi label classification (some algorithms support it by default, e.g. `KNeighborsClassifier`).\n",
    "\n",
    "Exmaple of training a classifier using the `MultiOutputClassifier`class:\n",
    "\n",
    "`forest_clf = MultiOutputClassifier(RandomForestClassifier(n_estimators = 20))`\n",
    "\n",
    "`forest_clf.fit(X_train_prepared, y_train_prepared)`"
   ]
  },
  {
   "cell_type": "code",
   "execution_count": 16,
   "metadata": {},
   "outputs": [
    {
     "name": "stdout",
     "output_type": "stream",
     "text": [
      "Accuracy using MultinomialNB(alpha=1.0, class_prior=None, fit_prior=True)\n",
      "Fitting model for ext...\n",
      "Dimension ext: 0.8644264194669756\n",
      "Fitting model for neu...\n",
      "Dimension neu: 0.9623406720741599\n",
      "Fitting model for agr...\n",
      "Dimension agr: 0.6761297798377752\n",
      "Fitting model for con...\n",
      "Dimension con: 0.921784472769409\n",
      "Fitting model for opn...\n",
      "Dimension opn: 0.9258400926998841\n",
      "\n",
      "\n",
      "Accuracy using RandomForestClassifier(bootstrap=True, class_weight=None, criterion='gini',\n",
      "                       max_depth=None, max_features='auto', max_leaf_nodes=None,\n",
      "                       min_impurity_decrease=0.0, min_impurity_split=None,\n",
      "                       min_samples_leaf=1, min_samples_split=2,\n",
      "                       min_weight_fraction_leaf=0.0, n_estimators=50,\n",
      "                       n_jobs=None, oob_score=False, random_state=None,\n",
      "                       verbose=0, warm_start=False)\n",
      "Fitting model for ext...\n",
      "Dimension ext: 1.0\n",
      "Fitting model for neu...\n",
      "Dimension neu: 1.0\n",
      "Fitting model for agr...\n",
      "Dimension agr: 1.0\n",
      "Fitting model for con...\n",
      "Dimension con: 1.0\n",
      "Fitting model for opn...\n",
      "Dimension opn: 1.0\n",
      "\n",
      "\n",
      "Accuracy using LogisticRegression(C=1.0, class_weight=None, dual=False, fit_intercept=True,\n",
      "                   intercept_scaling=1, l1_ratio=None, max_iter=100,\n",
      "                   multi_class='warn', n_jobs=None, penalty='l2',\n",
      "                   random_state=None, solver='sag', tol=0.0001, verbose=0,\n",
      "                   warm_start=False)\n",
      "Fitting model for ext...\n",
      "Dimension ext: 0.9333719582850522\n",
      "Fitting model for neu...\n",
      "Dimension neu: 0.9391657010428737\n",
      "Fitting model for agr...\n",
      "Dimension agr: 0.9125144843568945\n",
      "Fitting model for con...\n",
      "Dimension con: 0.936268829663963\n",
      "Fitting model for opn...\n",
      "Dimension opn: 0.8736964078794901\n",
      "\n",
      "\n",
      "Accuracy using XGBClassifier(base_score=0.5, booster='gbtree', colsample_bylevel=1,\n",
      "              colsample_bynode=1, colsample_bytree=1, gamma=0,\n",
      "              learning_rate=0.1, max_delta_step=0, max_depth=8,\n",
      "              min_child_weight=1, missing=None, n_estimators=100, n_jobs=1,\n",
      "              nthread=None, objective='binary:logistic', random_state=0,\n",
      "              reg_alpha=0, reg_lambda=1, scale_pos_weight=1, seed=None,\n",
      "              silent=None, subsample=0.5, verbosity=1)\n",
      "Fitting model for ext...\n",
      "Dimension ext: 1.0\n",
      "Fitting model for neu...\n",
      "Dimension neu: 1.0\n",
      "Fitting model for agr...\n",
      "Dimension agr: 1.0\n",
      "Fitting model for con...\n",
      "Dimension con: 1.0\n",
      "Fitting model for opn...\n",
      "Dimension opn: 1.0\n",
      "\n",
      "\n",
      "None None None None\n"
     ]
    }
   ],
   "source": [
    "classifiers = [MultinomialNB(fit_prior = True, class_prior = None),\n",
    "               RandomForestClassifier(n_estimators = 50),\n",
    "               LogisticRegression(solver = 'sag'),\n",
    "               xgb.XGBClassifier(n_estimators = 100, max_depth = 8, learning_rate = 0.1, subsample = 0.5)]\n",
    "\n",
    "nb_clf, forest_clf, log_clf, xgb_clf = list((map(multi_label_clf, classifiers)))\n",
    "print(nb_clf, forest_clf, log_clf, xgb_clf)"
   ]
  },
  {
   "cell_type": "markdown",
   "metadata": {},
   "source": [
    "# 5. Model tuning\n",
    "The RandomForrestClassifer seems to do very well (perfect accuracy for all dimensions). The logistic regression and the classifier using extreme gradient boosting perform good as well. So, we further explore these two model types.\n",
    "\n",
    "The perfect accuracy of the random forest model (accuracy scores of 1.0 for all five dimensions) indicates that the random forrest algorithm overfits the data. We don't want to touch our test set yet since we still need to fine-tune our model. To get a more realistic estimate on how the models perform on new data we can use cross-validation.\n",
    "\n",
    "(As we waw in our data exploration, the dataset is quite balanced so looking at the accuracy to evaluate the model should be okay. Of course, it is no mistake to look at other metrics as well - for example precision, recall and the F1-score.)"
   ]
  },
  {
   "cell_type": "code",
   "execution_count": 17,
   "metadata": {},
   "outputs": [],
   "source": [
    "def multi_label_clf_cv(classifier, categories = ['ext', 'neu', 'agr', 'con', 'opn']):\n",
    "    \n",
    "    # Define the modelling pipeline in the function so that the function is self-contained\n",
    "    model_pipeline = Pipeline([ ('tfidf', TfidfVectorizer(stop_words = stop_words)),\n",
    "                               ('clf', classifier)])\n",
    "    \n",
    "    print('Accuracy using {}'.format(classifier))\n",
    "    \n",
    "    for category in categories:\n",
    "        print(\"Fitting model for {}...\".format(category))\n",
    "        \n",
    "        model_pipeline.fit(X_train, Y_train[category])\n",
    "        scores = cross_val_score(model_pipeline, X_train, Y_train[category], scoring = \"accuracy\", cv = 3)\n",
    "        \n",
    "        print('Cross validation accuracy for dimension {}: {}'.format(category, scores))\n",
    "    print('\\n')"
   ]
  },
  {
   "cell_type": "code",
   "execution_count": 18,
   "metadata": {
    "scrolled": true
   },
   "outputs": [
    {
     "name": "stdout",
     "output_type": "stream",
     "text": [
      "Accuracy using RandomForestClassifier(bootstrap=True, class_weight=None, criterion='gini',\n",
      "                       max_depth=None, max_features='auto', max_leaf_nodes=None,\n",
      "                       min_impurity_decrease=0.0, min_impurity_split=None,\n",
      "                       min_samples_leaf=1, min_samples_split=2,\n",
      "                       min_weight_fraction_leaf=0.0, n_estimators=50,\n",
      "                       n_jobs=None, oob_score=False, random_state=42, verbose=0,\n",
      "                       warm_start=False)\n",
      "Fitting model for ext...\n",
      "Cross validation accuracy for dimension ext: [0.56076389 0.52777778 0.52090592]\n",
      "Fitting model for neu...\n",
      "Cross validation accuracy for dimension neu: [0.5        0.5426087  0.49391304]\n",
      "Fitting model for agr...\n",
      "Cross validation accuracy for dimension agr: [0.5        0.52173913 0.52173913]\n",
      "Fitting model for con...\n",
      "Cross validation accuracy for dimension con: [0.51215278 0.55555556 0.53832753]\n",
      "Fitting model for opn...\n",
      "Cross validation accuracy for dimension opn: [0.59201389 0.54340278 0.55749129]\n",
      "\n",
      "\n",
      "Accuracy using LogisticRegression(C=1.0, class_weight=None, dual=False, fit_intercept=True,\n",
      "                   intercept_scaling=1, l1_ratio=None, max_iter=100,\n",
      "                   multi_class='warn', n_jobs=None, penalty='l2',\n",
      "                   random_state=None, solver='sag', tol=0.0001, verbose=0,\n",
      "                   warm_start=False)\n",
      "Fitting model for ext...\n",
      "Cross validation accuracy for dimension ext: [0.55381944 0.56076389 0.57317073]\n",
      "Fitting model for neu...\n",
      "Cross validation accuracy for dimension neu: [0.55034722 0.55652174 0.57043478]\n",
      "Fitting model for agr...\n",
      "Cross validation accuracy for dimension agr: [0.53125    0.54608696 0.55478261]\n",
      "Fitting model for con...\n",
      "Cross validation accuracy for dimension con: [0.57465278 0.578125   0.57491289]\n",
      "Fitting model for opn...\n",
      "Cross validation accuracy for dimension opn: [0.60243056 0.61284722 0.6184669 ]\n",
      "\n",
      "\n",
      "Accuracy using XGBClassifier(base_score=0.5, booster='gbtree', colsample_bylevel=1,\n",
      "              colsample_bynode=1, colsample_bytree=1, gamma=0,\n",
      "              learning_rate=0.1, max_delta_step=0, max_depth=3,\n",
      "              min_child_weight=1, missing=None, n_estimators=30, n_jobs=1,\n",
      "              nthread=None, objective='binary:logistic', random_state=0,\n",
      "              reg_alpha=0, reg_lambda=1, scale_pos_weight=1, seed=None,\n",
      "              silent=None, subsample=1, verbosity=1)\n",
      "Fitting model for ext...\n",
      "Cross validation accuracy for dimension ext: [0.50868056 0.52951389 0.53310105]\n",
      "Fitting model for neu...\n",
      "Cross validation accuracy for dimension neu: [0.53819444 0.51478261 0.54608696]\n",
      "Fitting model for agr...\n",
      "Cross validation accuracy for dimension agr: [0.50173611 0.52869565 0.53913043]\n",
      "Fitting model for con...\n",
      "Cross validation accuracy for dimension con: [0.52951389 0.52083333 0.5       ]\n",
      "Fitting model for opn...\n",
      "Cross validation accuracy for dimension opn: [0.59027778 0.61111111 0.55923345]\n",
      "\n",
      "\n"
     ]
    }
   ],
   "source": [
    "multi_label_clf_cv(RandomForestClassifier(n_estimators = 50, random_state = 42))\n",
    "multi_label_clf_cv(LogisticRegression(solver = 'sag'))\n",
    "multi_label_clf_cv(xgb.XGBClassifier(n_estimators = 30))"
   ]
  },
  {
   "cell_type": "markdown",
   "metadata": {},
   "source": [
    "Oof! When using cross validation the algorithms do not do as well as expected. The accuracy for most dimensions is barely above chance level (50%). Now, the logistic regression seems to do a little bit better compared the random forest. One thing we can do to optimize our model is tune its hyperparameters using grid search or randomized search.\n",
    "\n",
    "`LogisticRegression` shows the best results out of the models we tried. So we'll focus our hyperparameter tuning on this on type of model.\n",
    "\n",
    "Remember that we actually fit one model per personality dimension. We will do a grid search for each model (per dimension) to find good hyperparameters. We'll only focus on some of the possbile hyperparameters."
   ]
  },
  {
   "cell_type": "code",
   "execution_count": 19,
   "metadata": {},
   "outputs": [],
   "source": [
    "# Function to perform for each model\n",
    "def log_reg_search(category):\n",
    "    log_reg_pipe = Pipeline([(\"tfidf\",  TfidfVectorizer(stop_words = stop_words)),\n",
    "                             ('clf', LogisticRegression())])\n",
    "\n",
    "    param_grid = {\"clf__C\": np.logspace(-3, 3, 7),\n",
    "                  \"clf__penalty\": [\"l1\", \"l2\"]\n",
    "                 }\n",
    "\n",
    "    grid_search = GridSearchCV(log_reg_pipe, param_grid, cv = 3,\n",
    "                              scoring = 'accuracy')\n",
    "\n",
    "    grid_search.fit(X_train, Y_train[category])\n",
    "    \n",
    "    return grid_search.best_estimator_"
   ]
  },
  {
   "cell_type": "code",
   "execution_count": 20,
   "metadata": {},
   "outputs": [],
   "source": [
    "# Running this cell might take a few minutes\n",
    "categories = ['ext', 'neu', 'agr', 'con', 'opn']\n",
    "\n",
    "best_ext_model, best_neu_model, best_agr_model,best_con_model, best_opn_model = list(map(log_reg_search, categories))"
   ]
  },
  {
   "cell_type": "markdown",
   "metadata": {},
   "source": [
    "We have extracted the best model for each dimension. Note that all models also include the tokenization step, for example:"
   ]
  },
  {
   "cell_type": "code",
   "execution_count": 21,
   "metadata": {
    "scrolled": true
   },
   "outputs": [
    {
     "data": {
      "text/plain": [
       "Pipeline(memory=None,\n",
       "         steps=[('tfidf',\n",
       "                 TfidfVectorizer(analyzer='word', binary=False,\n",
       "                                 decode_error='strict',\n",
       "                                 dtype=<class 'numpy.float64'>,\n",
       "                                 encoding='utf-8', input='content',\n",
       "                                 lowercase=True, max_df=1.0, max_features=None,\n",
       "                                 min_df=1, ngram_range=(1, 1), norm='l2',\n",
       "                                 preprocessor=None, smooth_idf=True,\n",
       "                                 stop_words={'a', 'about', 'above', 'after',\n",
       "                                             'again', 'against', 'ain', 'all'...\n",
       "                                 strip_accents=None, sublinear_tf=False,\n",
       "                                 token_pattern='(?u)\\\\b\\\\w\\\\w+\\\\b',\n",
       "                                 tokenizer=None, use_idf=True,\n",
       "                                 vocabulary=None)),\n",
       "                ('clf',\n",
       "                 LogisticRegression(C=0.1, class_weight=None, dual=False,\n",
       "                                    fit_intercept=True, intercept_scaling=1,\n",
       "                                    l1_ratio=None, max_iter=100,\n",
       "                                    multi_class='warn', n_jobs=None,\n",
       "                                    penalty='l2', random_state=None,\n",
       "                                    solver='warn', tol=0.0001, verbose=0,\n",
       "                                    warm_start=False))],\n",
       "         verbose=False)"
      ]
     },
     "execution_count": 21,
     "metadata": {},
     "output_type": "execute_result"
    }
   ],
   "source": [
    "best_ext_model"
   ]
  },
  {
   "cell_type": "code",
   "execution_count": 22,
   "metadata": {},
   "outputs": [
    {
     "name": "stdout",
     "output_type": "stream",
     "text": [
      "Cross validation accuracy scores for dimension ext: [0.56076389 0.55208333 0.58013937]\n",
      "Cross validation accuracy scores for dimension neu: [0.56423611 0.55304348 0.58956522]\n",
      "Cross validation accuracy scores for dimension agr: [0.53125    0.54608696 0.55652174]\n",
      "Cross validation accuracy scores for dimension con: [0.55555556 0.58680556 0.58885017]\n",
      "Cross validation accuracy scores for dimension opn: [0.60416667 0.609375   0.62020906]\n"
     ]
    }
   ],
   "source": [
    "models = [best_ext_model, best_neu_model, best_agr_model,best_con_model, best_opn_model]\n",
    "categories = ['ext', 'neu', 'agr', 'con', 'opn']\n",
    "\n",
    "for model, category in zip(models, categories):\n",
    "    model.fit(X_train, Y_train[category])\n",
    "    scores = cross_val_score(model, X_train, Y_train[category], scoring = \"accuracy\", cv = 3) \n",
    "    print(\"Cross validation accuracy scores for dimension {}: {}\".format(category, scores))"
   ]
  },
  {
   "cell_type": "markdown",
   "metadata": {},
   "source": [
    "Well, the grid search did not improve our models by much. Anyway, let's finally evaluate the models using the test set:"
   ]
  },
  {
   "cell_type": "code",
   "execution_count": 23,
   "metadata": {},
   "outputs": [
    {
     "name": "stdout",
     "output_type": "stream",
     "text": [
      "Test accuracy scores for dimension ext: 0.5573549257759784\n",
      "Test accuracy scores for dimension neu: 0.5573549257759784\n",
      "Test accuracy scores for dimension agr: 0.5641025641025641\n",
      "Test accuracy scores for dimension con: 0.5330634278002699\n",
      "Test accuracy scores for dimension opn: 0.6180836707152496\n"
     ]
    }
   ],
   "source": [
    "for model, category in zip(models, categories):\n",
    "    preds = model.predict(X_test)\n",
    "    acc_score = accuracy_score(Y_test[category], preds)\n",
    "    print(\"Test accuracy scores for dimension {}: {}\".format(category, acc_score))"
   ]
  },
  {
   "cell_type": "markdown",
   "metadata": {},
   "source": [
    "Well, at least all accuracy scores are above chance level. Personality detection from text is hard. Even Majumder et al. (2017) (who tried out a lot of different deep learning and shallow machine learning models on the essays dataset) reported that 4 out of 5 models (one per personality dimension) got an accuracy score less than 0.6 at best.\n",
    "\n",
    "Here ist the best accuracy score for each dimension reported by Majumder et al. (2017):\n",
    "* Extraversion: 58.09\n",
    "* Neuroticism: 59.38\n",
    "* Agreeableness: 56.71\n",
    "* Conscientiousness: 57.30\n",
    "* Openess: 62.68\n",
    "\n",
    "The scores from our basic logistic regression models are not that far away. :)"
   ]
  },
  {
   "cell_type": "markdown",
   "metadata": {},
   "source": [
    "# 6. Possible improvements\n",
    "The idea of this project was to demonstrate a basic machine learning workflow. Of course, the models that we created can be improved! Some ideas of how the models could be improved:\n",
    "\n",
    "* experiment with different preprocessing approaches: embeddings (e.g. word2vec), considering sentiments (e.g. leaving out emotionally neutral sentences), etc.\n",
    "* explore a wider range of models (e.g. deep neural networks)\n",
    "* experiemnt with metrics and thresholds\n",
    "* (more \"efficient\" use of pipelines)\n",
    "\n",
    "However, detecting personality from text is not as easy as for example just predicting sentiments from text. A text might not contain any information about the author's personality as the author can choose to not reveal it."
   ]
  },
  {
   "cell_type": "markdown",
   "metadata": {},
   "source": [
    "# 7. Feed completly new data to the model\n",
    "Just for fun, let's feed in some text from a celebrity person and see what our model says. How about a speech by Donald Trump? We chose a speech Trump held about the ongoing conflict between the United States and Iran (NBC News, 2020)."
   ]
  },
  {
   "cell_type": "code",
   "execution_count": 24,
   "metadata": {
    "scrolled": true
   },
   "outputs": [
    {
     "name": "stdout",
     "output_type": "stream",
     "text": [
      "as long as i am president of the united states iran will never be allowed to have a nuclear weapon good morning i am pleased to inform you the american people should be extremely grateful and happy no americans were harmed in last night s attack by the iranian regime we suffered no casualties all of our soldiers are safe and only minimal damage was sustained at our military bases our great american forces are prepared for anything iran appears to be standing down which is a good thing for all p...\n"
     ]
    }
   ],
   "source": [
    "from pathlib import Path\n",
    "trump_speech = Path('data/trump_iran_speech.txt').read_text()\n",
    "\n",
    "trump_speech_df = pd.Series(trump_speech).to_frame(name = \"text\")\n",
    "\n",
    "# Clean text\n",
    "cleaner = TextCleaner(\"text\")\n",
    "trump_speech_df = cleaner.transform(trump_speech_df)\n",
    "\n",
    "# Print out the first 500 characters of the speech\n",
    "print(\"{}...\".format(trump_speech_df[\"text\"][0][0:499]))"
   ]
  },
  {
   "cell_type": "markdown",
   "metadata": {},
   "source": [
    "Next, we use our models to predict Trump's personality:"
   ]
  },
  {
   "cell_type": "code",
   "execution_count": 37,
   "metadata": {
    "scrolled": true
   },
   "outputs": [
    {
     "name": "stdout",
     "output_type": "stream",
     "text": [
      "Is Donald Trump extroverted? False!\n",
      "Is Donald Trump neurotic? False!\n",
      "Is Donald Trump agreeable? False!\n",
      "Is Donald Trump conscientious? False!\n",
      "Is Donald Trump open? True!\n"
     ]
    }
   ],
   "source": [
    "def ask_the_model(dimension, model):\n",
    "    print(\"Is Donald Trump {}? {}!\".format(dimension, model.predict(trump_speech_df)[0]))\n",
    "    \n",
    "models = [best_ext_model, best_neu_model, best_agr_model, best_con_model, best_opn_model]\n",
    "dimensions = [\"extroverted\", \"neurotic\", \"agreeable\", \"conscientious\", \"open\"]\n",
    "\n",
    "for dimension, model in zip(dimensions, models):\n",
    "    ask_the_model(dimension, model)"
   ]
  },
  {
   "cell_type": "markdown",
   "metadata": {},
   "source": [
    "# 8. References\n",
    "* Agarwal, B. (2014). Personality detection from text: A Review. International Journal of Computer System, 1(1).\n",
    "* Costa, P. T., & McCrae, R. R. (1985). The NEO personality inventory.\n",
    "* Géron, A. (2018). Hands-on machine learning with Scikit-Learn and Tensorflow. Sebastopol, CA: O'Reilly Media.\n",
    "* Majumder, N., Poria, S., Gelbukh, A., & Cambria, E. (2017). Deep learning-based document modeling for personality detection from text. IEEE Intelligent Systems, 32(2), 74-79.\n",
    "* NBC News (2020). Read the full transcript of Trump's Iran speech. Retrieved from: https://www.nbcnews.com/politics/donald-trump/read-full-transcript-trump-s-iran-speech-n1112456\n",
    "* Li, S. (2018). Multi Label Text Classification with Scikit-Learn. Retrieved from:https://towardsdatascience.com/multi-label-text-classification-with-scikit-learn-30714b7819c5"
   ]
  }
 ],
 "metadata": {
  "kernelspec": {
   "display_name": "Python 3",
   "language": "python",
   "name": "python3"
  },
  "language_info": {
   "codemirror_mode": {
    "name": "ipython",
    "version": 3
   },
   "file_extension": ".py",
   "mimetype": "text/x-python",
   "name": "python",
   "nbconvert_exporter": "python",
   "pygments_lexer": "ipython3",
   "version": "3.7.4"
  }
 },
 "nbformat": 4,
 "nbformat_minor": 2
}
